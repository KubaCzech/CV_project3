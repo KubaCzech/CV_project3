{
 "cells": [
  {
   "cell_type": "code",
   "execution_count": 1,
   "metadata": {},
   "outputs": [],
   "source": [
    "import pandas as pd\n",
    "import random\n",
    "import cv2\n",
    "from PIL import Image\n",
    "\n",
    "import os\n",
    "import shutil"
   ]
  },
  {
   "cell_type": "markdown",
   "metadata": {},
   "source": [
    "## **Creating dataset from owned data** ##"
   ]
  },
  {
   "cell_type": "code",
   "execution_count": 12,
   "metadata": {},
   "outputs": [],
   "source": [
    "def create_directory(my_path, dir_name):\n",
    "    directory_name = dir_name\n",
    "    if os.path.exists(os.path.join(my_path, directory_name)):\n",
    "        shutil.rmtree(os.path.join(my_path, directory_name))\n",
    "    os.mkdir(my_path + '/' + directory_name)"
   ]
  },
  {
   "cell_type": "code",
   "execution_count": 13,
   "metadata": {},
   "outputs": [],
   "source": [
    "def choose_pictures(n, path_name, dest_name):\n",
    "    source_folder = os.path.join(path_name, \"Humans\")\n",
    "    destination_folder = os.path.join(path_name, dest_name)\n",
    "\n",
    "    os.makedirs(destination_folder, exist_ok=True)\n",
    "\n",
    "    all_files = [file for file in os.listdir(source_folder) if os.path.isfile(os.path.join(source_folder, file))]\n",
    "\n",
    "    if len(all_files) < n:\n",
    "        print(f\"Not enough pictures in the source folder. Found only {len(all_files)} files.\")\n",
    "    else:\n",
    "        selected_files = random.sample(all_files, n)\n",
    "        for file in selected_files:\n",
    "            shutil.copy(os.path.join(source_folder, file), os.path.join(destination_folder, file))\n"
   ]
  },
  {
   "cell_type": "code",
   "execution_count": 14,
   "metadata": {},
   "outputs": [],
   "source": [
    "def resize_all_pictures(path_name, dir_name, width, height):\n",
    "    source_folder = os.path.join(path_name, dir_name)\n",
    "    for file in os.listdir(source_folder):\n",
    "        if file == '.DS_Store':\n",
    "            continue\n",
    "        img = Image.open(os.path.join(source_folder, file))\n",
    "        img = img.resize((width, height))\n",
    "        img.save(os.path.join(source_folder, file))"
   ]
  },
  {
   "cell_type": "code",
   "execution_count": 33,
   "metadata": {},
   "outputs": [],
   "source": [
    "def draw_black_rectangle(path_name, dir_name, r_width, r_height):\n",
    "    source_folder = os.path.join(path_name, dir_name)\n",
    "    for file in os.listdir(source_folder):\n",
    "        if file == '.DS_Store':\n",
    "            continue\n",
    "\n",
    "        img = cv2.imread(os.path.join(source_folder, file))\n",
    "        height, width, _ = img.shape\n",
    "\n",
    "        rect_width, rect_height = r_width, r_height\n",
    "        if rect_width > width or rect_height > height:\n",
    "            print(\"Rectangle size exceeds image dimensions!\")\n",
    "            return\n",
    "\n",
    "        x = random.randint(80, 120)\n",
    "        y = random.randint(80, 120)\n",
    "\n",
    "        color = (0, 0, 0)\n",
    "        thickness = -1\n",
    "        cv2.rectangle(img, (x, y), (x + rect_width, y + rect_height), color, thickness)\n",
    "        cv2.imwrite(os.path.join(source_folder, file), img)"
   ]
  },
  {
   "cell_type": "code",
   "execution_count": 34,
   "metadata": {},
   "outputs": [],
   "source": [
    "def copy_directory_contents(path_name, dir1, dir2):\n",
    "    source_dir = os.path.join(path_name, dir1)\n",
    "    dest_dir = os.path.join(path_name, dir2)\n",
    "    for file_name in os.listdir(source_dir):\n",
    "        source_file = os.path.join(source_dir, file_name)\n",
    "        destination_file = os.path.join(dest_dir, file_name)\n",
    "\n",
    "        if os.path.isfile(source_file):\n",
    "            shutil.copy2(source_file, destination_file)"
   ]
  },
  {
   "cell_type": "code",
   "execution_count": 43,
   "metadata": {},
   "outputs": [],
   "source": [
    "def create_datasets(path_name):\n",
    "    # 1a. Create input data directory\n",
    "    create_directory(path_name, \"input_data\")\n",
    "    # 1b. Create output data directory\n",
    "    create_directory(path_name, \"output_data\")\n",
    "    # 2. Choose 1000 random images\n",
    "    choose_pictures(1000, path_name, \"output_data\")\n",
    "    # 3. Resize output data\n",
    "    resize_all_pictures(path_name, \"output_data\", 224, 224)\n",
    "    # 4. Copy output folder as input data\n",
    "    copy_directory_contents(path_name, \"output_data\", \"input_data\")\n",
    "    # 5. Draw black rectangle on output data\n",
    "    draw_black_rectangle(path_name, \"input_data\", 60, 60)"
   ]
  },
  {
   "cell_type": "code",
   "execution_count": null,
   "metadata": {},
   "outputs": [],
   "source": [
    "# create_datasets(\"C:/Users/user/Desktop/AI/V sem/CV/CV_project3\")"
   ]
  },
  {
   "cell_type": "code",
   "execution_count": null,
   "metadata": {},
   "outputs": [],
   "source": []
  }
 ],
 "metadata": {
  "kernelspec": {
   "display_name": "Python 3",
   "language": "python",
   "name": "python3"
  },
  "language_info": {
   "codemirror_mode": {
    "name": "ipython",
    "version": 3
   },
   "file_extension": ".py",
   "mimetype": "text/x-python",
   "name": "python",
   "nbconvert_exporter": "python",
   "pygments_lexer": "ipython3",
   "version": "3.12.1"
  }
 },
 "nbformat": 4,
 "nbformat_minor": 2
}
